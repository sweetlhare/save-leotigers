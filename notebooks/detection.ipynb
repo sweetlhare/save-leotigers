{
 "cells": [
  {
   "cell_type": "code",
   "execution_count": 76,
   "id": "cf037442-5629-4ac9-b5f4-9391dd21246c",
   "metadata": {},
   "outputs": [],
   "source": [
    "import os\n",
    "import shutil\n",
    "from tqdm import tqdm\n",
    "from random import shuffle\n",
    "import numpy as np\n",
    "import pandas as pd\n",
    "import cv2\n",
    "import matplotlib.pyplot as plt\n",
    "from glob import glob\n",
    "\n",
    "import torch\n",
    "\n",
    "from sklearn.model_selection import train_test_split"
   ]
  },
  {
   "cell_type": "markdown",
   "id": "1bee8229-1f36-4a8b-9db3-417bab42a11e",
   "metadata": {
    "jp-MarkdownHeadingCollapsed": true,
    "tags": []
   },
   "source": [
    "# prepare data"
   ]
  },
  {
   "cell_type": "code",
   "execution_count": 77,
   "id": "033642f9-b226-4c58-8da5-f70b40aa0872",
   "metadata": {},
   "outputs": [],
   "source": [
    "TARGETS = {'Tiger': 0, 'Leopard': 1}"
   ]
  },
  {
   "cell_type": "code",
   "execution_count": 78,
   "id": "b97f7f9d-76cd-4e04-80ea-e542205346f2",
   "metadata": {},
   "outputs": [],
   "source": [
    "def get_width(path):\n",
    "    image = cv2.imread(path)\n",
    "    return image.shape[1]\n",
    "\n",
    "def get_height(path):\n",
    "    image = cv2.imread(path)\n",
    "    return image.shape[0]"
   ]
  },
  {
   "cell_type": "markdown",
   "id": "51e33b7e-7590-4f0e-9aa6-44bf50a1ab78",
   "metadata": {
    "jp-MarkdownHeadingCollapsed": true,
    "tags": []
   },
   "source": [
    "## train"
   ]
  },
  {
   "cell_type": "code",
   "execution_count": 136,
   "id": "c8fdcedf-5548-46bd-a1a4-1baf27bba2e3",
   "metadata": {},
   "outputs": [
    {
     "name": "stderr",
     "output_type": "stream",
     "text": [
      "100%|██████████| 3537/3537 [03:34<00:00, 16.45it/s]\n",
      "100%|██████████| 3517/3517 [03:17<00:00, 17.82it/s]\n"
     ]
    }
   ],
   "source": [
    "tiger_train = pd.read_csv('data/Train_3500/Tiger/objects.csv')\n",
    "leo_train = pd.read_csv('data/Train_3500/Leopard/objects.csv')\n",
    "\n",
    "tiger_train['path'] = tiger_train.id.apply(lambda x: 'data/Train_3500/Tiger/'+x)\n",
    "leo_train['path'] = leo_train.id.apply(lambda x: 'data/Train_3500/Leopard/'+x)\n",
    "\n",
    "# –––––––––––––––––––––––––––––––––––––––––––––––––––––––––––––––––––––––––––––––––\n",
    "\n",
    "widths = []\n",
    "heights = []\n",
    "\n",
    "for path in tqdm(tiger_train.path):\n",
    "    widths.append(get_width(path))\n",
    "    heights.append(get_height(path))\n",
    "    \n",
    "tiger_train['width'] = widths\n",
    "tiger_train['height'] = heights\n",
    "\n",
    "# –––––––––––––––––––––––––––––––––––––––––––––––––––––––––––––––––––––––––––––––––\n",
    "\n",
    "widths = []\n",
    "heights = []\n",
    "\n",
    "for path in tqdm(leo_train.path):\n",
    "    widths.append(get_width(path))\n",
    "    heights.append(get_height(path))\n",
    "    \n",
    "leo_train['width'] = widths\n",
    "leo_train['height'] = heights"
   ]
  },
  {
   "cell_type": "code",
   "execution_count": 137,
   "id": "c781183d-957d-4791-9a71-fb9cca2c2217",
   "metadata": {},
   "outputs": [],
   "source": [
    "# bbox - xmin, ymin, xmax, ymax\n",
    "# yolo - x_c, y_c, width, height\n",
    "\n",
    "# center_x = ( (xmax + xmin) / 2) / width\n",
    "# center_y = ( (ymax + ymin) / 2) / height\n",
    "# width = (xmax - xmin) / width\n",
    "# height = (ymax - ymin) / height"
   ]
  },
  {
   "cell_type": "code",
   "execution_count": 144,
   "id": "67cd860a-f0e9-413e-a1a4-60e834a2f913",
   "metadata": {},
   "outputs": [],
   "source": [
    "tiger_train['x_c'] = tiger_train.bbox.apply(lambda x: ( (float(x.split(' ')[2]) + float(x.split(' ')[0])) / 2 ) )\n",
    "tiger_train['x_c'] = (tiger_train['x_c'] / tiger_train['width']).apply(lambda x: max(0, min(1, x)))\n",
    "\n",
    "tiger_train['y_c'] = tiger_train.bbox.apply(lambda x: ( (float(x.split(' ')[3]) + float(x.split(' ')[1])) / 2 ) )\n",
    "tiger_train['y_c'] = (tiger_train['y_c'] / tiger_train['height']).apply(lambda x: max(0, min(1, x)))\n",
    "\n",
    "tiger_train['width_box'] = tiger_train.bbox.apply( lambda x: (float(x.split(' ')[2]) - float(x.split(' ')[0])) )\n",
    "tiger_train['width_box'] = (tiger_train['width_box'] / tiger_train['width']).apply(lambda x: max(0, min(1, x)))\n",
    "\n",
    "tiger_train['height_box'] = tiger_train.bbox.apply(lambda x: (float(x.split(' ')[3]) - float(x.split(' ')[1])) )\n",
    "tiger_train['height_box'] = (tiger_train['height_box'] / tiger_train['height']).apply(lambda x: max(0, min(1, x)))\n",
    "\n",
    "tiger_train['yolo'] = tiger_train.apply(lambda x: '{} '.format(TARGETS['Tiger']) + \n",
    "                                        ' '.join([str(round(s, 4)) for s in x[-4:]]), axis=1)\n",
    "\n",
    "# –––––––––––––––––––––––––––––––––––––––––––––––––––––––––––––––––––––––––––––––––\n",
    "\n",
    "leo_train['x_c'] = leo_train.bbox.apply(lambda x: ( (float(x.split(' ')[2]) + float(x.split(' ')[0])) / 2 ) )\n",
    "leo_train['x_c'] = (leo_train['x_c'] / leo_train['width']).apply(lambda x: max(0, min(1, x)))\n",
    "\n",
    "leo_train['y_c'] = leo_train.bbox.apply(lambda x: ( (float(x.split(' ')[3]) + float(x.split(' ')[1])) / 2 ) )\n",
    "leo_train['y_c'] = (leo_train['y_c'] / leo_train['height']).apply(lambda x: max(0, min(1, x)))\n",
    "\n",
    "leo_train['width_box'] = leo_train.bbox.apply( lambda x: (float(x.split(' ')[2]) - float(x.split(' ')[0])) )\n",
    "leo_train['width_box'] = (leo_train['width_box'] / leo_train['width']).apply(lambda x: max(0, min(1, x)))\n",
    "\n",
    "leo_train['height_box'] = leo_train.bbox.apply(lambda x: (float(x.split(' ')[3]) - float(x.split(' ')[1])) )\n",
    "leo_train['height_box'] = (leo_train['height_box'] / leo_train['height']).apply(lambda x: max(0, min(1, x)))\n",
    "\n",
    "leo_train['yolo'] = leo_train.apply(lambda x: '{} '.format(TARGETS['Leopard']) + \n",
    "                                    ' '.join([str(round(s, 4)) for s in x[-4:]]), axis=1)"
   ]
  },
  {
   "cell_type": "code",
   "execution_count": 145,
   "id": "d24dbe2f-f737-4e16-a5f3-7488fadc3a7f",
   "metadata": {
    "tags": []
   },
   "outputs": [],
   "source": [
    "train_other = pd.DataFrame()\n",
    "\n",
    "train_other['path'] = glob('data/Train_3500/Other/*.jpg')\n",
    "train_other['id'] = train_other['path'].apply(lambda x: x.split('/')[-1])\n",
    "train_other['yolo'] = ''\n",
    "train_other['class'] = 'Other'"
   ]
  },
  {
   "cell_type": "code",
   "execution_count": 146,
   "id": "2dece662-70cc-4a21-b7fa-fb501662d015",
   "metadata": {
    "tags": []
   },
   "outputs": [],
   "source": [
    "train = pd.concat([tiger_train[['path', 'id', 'class', 'yolo']], \n",
    "                   leo_train[['path', 'id', 'class', 'yolo']], \n",
    "                   train_other[['path', 'id', 'class', 'yolo']]], axis=0)"
   ]
  },
  {
   "cell_type": "code",
   "execution_count": 147,
   "id": "e074513d-dd09-4c5c-81eb-f7270676e54a",
   "metadata": {},
   "outputs": [
    {
     "data": {
      "text/plain": [
       "class\n",
       "Leopard    3517\n",
       "Other      3500\n",
       "Tiger      3537\n",
       "Name: path, dtype: int64"
      ]
     },
     "execution_count": 147,
     "metadata": {},
     "output_type": "execute_result"
    }
   ],
   "source": [
    "train.groupby('class').path.count()"
   ]
  },
  {
   "cell_type": "code",
   "execution_count": 155,
   "id": "b3fc58c9-d2e9-4743-a549-f4c1cbef0e20",
   "metadata": {},
   "outputs": [
    {
     "data": {
      "text/plain": [
       "x_c          0.028877\n",
       "y_c          0.245768\n",
       "width     1600.000000\n",
       "height    1080.000000\n",
       "dtype: float64"
      ]
     },
     "execution_count": 155,
     "metadata": {},
     "output_type": "execute_result"
    }
   ],
   "source": [
    "tiger_train[['x_c', 'y_c', 'width', 'height']].min()"
   ]
  },
  {
   "cell_type": "code",
   "execution_count": 156,
   "id": "55bdc04e-76c3-4731-9a42-bba5dd20a67d",
   "metadata": {},
   "outputs": [],
   "source": [
    "train.to_csv('train.csv', index=False)"
   ]
  },
  {
   "cell_type": "markdown",
   "id": "c4909a20-51e3-4e4c-a838-8243b39b2489",
   "metadata": {
    "jp-MarkdownHeadingCollapsed": true,
    "tags": []
   },
   "source": [
    "## save to yolo format"
   ]
  },
  {
   "cell_type": "code",
   "execution_count": 158,
   "id": "7491cc8c-0f72-4ae1-99ec-952f5236ac3f",
   "metadata": {},
   "outputs": [],
   "source": [
    "train = pd.read_csv('train.csv')\n",
    "train.yolo = train.yolo.fillna('')"
   ]
  },
  {
   "cell_type": "code",
   "execution_count": 159,
   "id": "3ada705a-b8ae-4ed2-a32a-5aca54caf7b6",
   "metadata": {},
   "outputs": [
    {
     "data": {
      "text/plain": [
       "id\n",
       "001_1.jpg                        1\n",
       "214_IMG_0623_S02.jpg             1\n",
       "214_IMG_0624_S02.jpg             1\n",
       "214_IMG_0638_S02.jpg             1\n",
       "214_IMG_0640_S02.jpg             1\n",
       "                                ..\n",
       "003_92.jpg                       1\n",
       "003_93.jpg                       1\n",
       "003_96.jpg                       1\n",
       "003_783.jpg                      1\n",
       "добавочная_5_IMAG0044_S02.jpg    1\n",
       "Name: class, Length: 10454, dtype: int64"
      ]
     },
     "execution_count": 159,
     "metadata": {},
     "output_type": "execute_result"
    }
   ],
   "source": [
    "train.groupby(['id'])['class'].nunique().sort_values()"
   ]
  },
  {
   "cell_type": "code",
   "execution_count": 161,
   "id": "2515fb74-8bf7-4727-b41b-4ad15a3b821e",
   "metadata": {},
   "outputs": [],
   "source": [
    "for dir_ in ['data_yolo/train/images', 'data_yolo/train/labels',\n",
    "             'data_yolo/val/images', 'data_yolo/val/labels']:\n",
    "\n",
    "    shutil.rmtree(dir_)\n",
    "    os.mkdir(dir_)"
   ]
  },
  {
   "cell_type": "code",
   "execution_count": 162,
   "id": "977e54ca-dbb2-4be9-a3c7-ca681e9ab48f",
   "metadata": {},
   "outputs": [],
   "source": [
    "train_ann, val_ann = train_test_split(train, test_size=0.15, \n",
    "                                      stratify=train['class'], random_state=17)"
   ]
  },
  {
   "cell_type": "code",
   "execution_count": 163,
   "id": "d1121b31-b21b-4d53-ae2e-3ea5585182e3",
   "metadata": {},
   "outputs": [
    {
     "data": {
      "text/html": [
       "<div>\n",
       "<style scoped>\n",
       "    .dataframe tbody tr th:only-of-type {\n",
       "        vertical-align: middle;\n",
       "    }\n",
       "\n",
       "    .dataframe tbody tr th {\n",
       "        vertical-align: top;\n",
       "    }\n",
       "\n",
       "    .dataframe thead th {\n",
       "        text-align: right;\n",
       "    }\n",
       "</style>\n",
       "<table border=\"1\" class=\"dataframe\">\n",
       "  <thead>\n",
       "    <tr style=\"text-align: right;\">\n",
       "      <th></th>\n",
       "      <th>path</th>\n",
       "      <th>id</th>\n",
       "      <th>class</th>\n",
       "      <th>yolo</th>\n",
       "    </tr>\n",
       "  </thead>\n",
       "  <tbody>\n",
       "    <tr>\n",
       "      <th>5813</th>\n",
       "      <td>data/Train_3500/Leopard/02270351_S02.jpg</td>\n",
       "      <td>02270351_S02.jpg</td>\n",
       "      <td>Leopard</td>\n",
       "      <td>1 0.6624 0.6697 0.4062 0.3002</td>\n",
       "    </tr>\n",
       "    <tr>\n",
       "      <th>3090</th>\n",
       "      <td>data/Train_3500/Tiger/001_51.jpg</td>\n",
       "      <td>001_51.jpg</td>\n",
       "      <td>Tiger</td>\n",
       "      <td>0 0.3481 0.5742 0.6963 0.5052</td>\n",
       "    </tr>\n",
       "    <tr>\n",
       "      <th>1773</th>\n",
       "      <td>data/Train_3500/Tiger/001_1813.jpg</td>\n",
       "      <td>001_1813.jpg</td>\n",
       "      <td>Tiger</td>\n",
       "      <td>0 0.7029 0.8441 0.5415 0.2676</td>\n",
       "    </tr>\n",
       "    <tr>\n",
       "      <th>8714</th>\n",
       "      <td>data/Train_3500/Other/258_PICT1244_S17.jpg</td>\n",
       "      <td>258_PICT1244_S17.jpg</td>\n",
       "      <td>Other</td>\n",
       "      <td></td>\n",
       "    </tr>\n",
       "    <tr>\n",
       "      <th>5448</th>\n",
       "      <td>data/Train_3500/Leopard/109_IMAG0095_S02.jpg</td>\n",
       "      <td>109_IMAG0095_S02.jpg</td>\n",
       "      <td>Leopard</td>\n",
       "      <td>1 0.5949 0.5849 0.2758 0.1802</td>\n",
       "    </tr>\n",
       "    <tr>\n",
       "      <th>...</th>\n",
       "      <td>...</td>\n",
       "      <td>...</td>\n",
       "      <td>...</td>\n",
       "      <td>...</td>\n",
       "    </tr>\n",
       "    <tr>\n",
       "      <th>8163</th>\n",
       "      <td>data/Train_3500/Other/12967.jpg</td>\n",
       "      <td>12967.jpg</td>\n",
       "      <td>Other</td>\n",
       "      <td></td>\n",
       "    </tr>\n",
       "    <tr>\n",
       "      <th>46</th>\n",
       "      <td>data/Train_3500/Tiger/002_581.jpg</td>\n",
       "      <td>002_581.jpg</td>\n",
       "      <td>Tiger</td>\n",
       "      <td>0 0.5421 0.5014 0.4488 0.5535</td>\n",
       "    </tr>\n",
       "    <tr>\n",
       "      <th>2091</th>\n",
       "      <td>data/Train_3500/Tiger/001_2170.jpg</td>\n",
       "      <td>001_2170.jpg</td>\n",
       "      <td>Tiger</td>\n",
       "      <td>0 0.5876 0.4668 0.1937 0.7269</td>\n",
       "    </tr>\n",
       "    <tr>\n",
       "      <th>656</th>\n",
       "      <td>data/Train_3500/Tiger/002_1478.jpg</td>\n",
       "      <td>002_1478.jpg</td>\n",
       "      <td>Tiger</td>\n",
       "      <td>0 0.47 0.4352 0.9334 0.8704</td>\n",
       "    </tr>\n",
       "    <tr>\n",
       "      <th>7933</th>\n",
       "      <td>data/Train_3500/Other/210_IMG_0086_S08.jpg</td>\n",
       "      <td>210_IMG_0086_S08.jpg</td>\n",
       "      <td>Other</td>\n",
       "      <td></td>\n",
       "    </tr>\n",
       "  </tbody>\n",
       "</table>\n",
       "<p>8970 rows × 4 columns</p>\n",
       "</div>"
      ],
      "text/plain": [
       "                                              path                    id  \\\n",
       "5813      data/Train_3500/Leopard/02270351_S02.jpg      02270351_S02.jpg   \n",
       "3090              data/Train_3500/Tiger/001_51.jpg            001_51.jpg   \n",
       "1773            data/Train_3500/Tiger/001_1813.jpg          001_1813.jpg   \n",
       "8714    data/Train_3500/Other/258_PICT1244_S17.jpg  258_PICT1244_S17.jpg   \n",
       "5448  data/Train_3500/Leopard/109_IMAG0095_S02.jpg  109_IMAG0095_S02.jpg   \n",
       "...                                            ...                   ...   \n",
       "8163               data/Train_3500/Other/12967.jpg             12967.jpg   \n",
       "46               data/Train_3500/Tiger/002_581.jpg           002_581.jpg   \n",
       "2091            data/Train_3500/Tiger/001_2170.jpg          001_2170.jpg   \n",
       "656             data/Train_3500/Tiger/002_1478.jpg          002_1478.jpg   \n",
       "7933    data/Train_3500/Other/210_IMG_0086_S08.jpg  210_IMG_0086_S08.jpg   \n",
       "\n",
       "        class                           yolo  \n",
       "5813  Leopard  1 0.6624 0.6697 0.4062 0.3002  \n",
       "3090    Tiger  0 0.3481 0.5742 0.6963 0.5052  \n",
       "1773    Tiger  0 0.7029 0.8441 0.5415 0.2676  \n",
       "8714    Other                                 \n",
       "5448  Leopard  1 0.5949 0.5849 0.2758 0.1802  \n",
       "...       ...                            ...  \n",
       "8163    Other                                 \n",
       "46      Tiger  0 0.5421 0.5014 0.4488 0.5535  \n",
       "2091    Tiger  0 0.5876 0.4668 0.1937 0.7269  \n",
       "656     Tiger    0 0.47 0.4352 0.9334 0.8704  \n",
       "7933    Other                                 \n",
       "\n",
       "[8970 rows x 4 columns]"
      ]
     },
     "execution_count": 163,
     "metadata": {},
     "output_type": "execute_result"
    }
   ],
   "source": [
    "train_ann"
   ]
  },
  {
   "cell_type": "code",
   "execution_count": 164,
   "id": "6c876a74-c030-438e-960c-de2d992fd293",
   "metadata": {},
   "outputs": [
    {
     "name": "stderr",
     "output_type": "stream",
     "text": [
      "100%|██████████| 8899/8899 [09:19<00:00, 15.89it/s]\n",
      "100%|██████████| 1582/1582 [01:38<00:00, 16.04it/s]\n"
     ]
    }
   ],
   "source": [
    "for image_file in tqdm(train_ann.id.unique()):\n",
    "    \n",
    "    temp_ann = train_ann[train_ann.id == image_file]\n",
    "    class_temp = temp_ann['class'].iloc[0]\n",
    "    image = cv2.imread(temp_ann.path.iloc[0])\n",
    "    \n",
    "    s_ann = ''\n",
    "    \n",
    "    for i, val in temp_ann.iterrows():\n",
    "        \n",
    "        s_ann += val['yolo']\n",
    "        if i != temp_ann.shape[0] - 1:\n",
    "            s_ann += '\\n'\n",
    "    \n",
    "    label_file = 'data_yolo/train/labels/'+class_temp+'_'+image_file[:-4]+'.txt'\n",
    "    image_file = 'data_yolo/train/images/'+class_temp+'_'+image_file\n",
    "    \n",
    "    with open(label_file, 'w') as f:\n",
    "        f.write(s_ann)\n",
    "    \n",
    "    cv2.imwrite(image_file, image)\n",
    "    \n",
    "    \n",
    "    \n",
    "# ––––––––––––––––––––––––––––––––––––––––––––––––––––––––––––––––––––––––––––––––––––––––––––––––    \n",
    "    \n",
    "for image_file in tqdm(val_ann.id.unique()):\n",
    "    \n",
    "    temp_ann = val_ann[val_ann.id == image_file]\n",
    "    class_temp = temp_ann['class'].iloc[0]\n",
    "    image = cv2.imread(temp_ann.path.iloc[0])\n",
    "    \n",
    "    s_ann = ''\n",
    "    \n",
    "    for i, val in temp_ann.iterrows():\n",
    "        \n",
    "        s_ann += val['yolo']\n",
    "        if i != temp_ann.shape[0] - 1:\n",
    "            s_ann += '\\n'\n",
    "    \n",
    "    label_file = 'data_yolo/val/labels/'+class_temp+'_'+image_file[:-4]+'.txt'\n",
    "    image_file = 'data_yolo/val/images/'+class_temp+'_'+image_file\n",
    "    \n",
    "    with open(label_file, 'w') as f:\n",
    "        f.write(s_ann)\n",
    "    \n",
    "    cv2.imwrite(image_file, image)"
   ]
  },
  {
   "cell_type": "code",
   "execution_count": 165,
   "id": "95a583d8-9c01-4dbc-b1b7-b1b0999f1ac7",
   "metadata": {},
   "outputs": [
    {
     "data": {
      "text/html": [
       "<div>\n",
       "<style scoped>\n",
       "    .dataframe tbody tr th:only-of-type {\n",
       "        vertical-align: middle;\n",
       "    }\n",
       "\n",
       "    .dataframe tbody tr th {\n",
       "        vertical-align: top;\n",
       "    }\n",
       "\n",
       "    .dataframe thead th {\n",
       "        text-align: right;\n",
       "    }\n",
       "</style>\n",
       "<table border=\"1\" class=\"dataframe\">\n",
       "  <thead>\n",
       "    <tr style=\"text-align: right;\">\n",
       "      <th></th>\n",
       "      <th>path</th>\n",
       "      <th>id</th>\n",
       "      <th>class</th>\n",
       "      <th>yolo</th>\n",
       "    </tr>\n",
       "  </thead>\n",
       "  <tbody>\n",
       "    <tr>\n",
       "      <th>5813</th>\n",
       "      <td>data/Train_3500/Leopard/02270351_S02.jpg</td>\n",
       "      <td>02270351_S02.jpg</td>\n",
       "      <td>Leopard</td>\n",
       "      <td>1 0.6624 0.6697 0.4062 0.3002</td>\n",
       "    </tr>\n",
       "    <tr>\n",
       "      <th>3090</th>\n",
       "      <td>data/Train_3500/Tiger/001_51.jpg</td>\n",
       "      <td>001_51.jpg</td>\n",
       "      <td>Tiger</td>\n",
       "      <td>0 0.3481 0.5742 0.6963 0.5052</td>\n",
       "    </tr>\n",
       "    <tr>\n",
       "      <th>1773</th>\n",
       "      <td>data/Train_3500/Tiger/001_1813.jpg</td>\n",
       "      <td>001_1813.jpg</td>\n",
       "      <td>Tiger</td>\n",
       "      <td>0 0.7029 0.8441 0.5415 0.2676</td>\n",
       "    </tr>\n",
       "    <tr>\n",
       "      <th>8714</th>\n",
       "      <td>data/Train_3500/Other/258_PICT1244_S17.jpg</td>\n",
       "      <td>258_PICT1244_S17.jpg</td>\n",
       "      <td>Other</td>\n",
       "      <td></td>\n",
       "    </tr>\n",
       "    <tr>\n",
       "      <th>5448</th>\n",
       "      <td>data/Train_3500/Leopard/109_IMAG0095_S02.jpg</td>\n",
       "      <td>109_IMAG0095_S02.jpg</td>\n",
       "      <td>Leopard</td>\n",
       "      <td>1 0.5949 0.5849 0.2758 0.1802</td>\n",
       "    </tr>\n",
       "    <tr>\n",
       "      <th>...</th>\n",
       "      <td>...</td>\n",
       "      <td>...</td>\n",
       "      <td>...</td>\n",
       "      <td>...</td>\n",
       "    </tr>\n",
       "    <tr>\n",
       "      <th>8163</th>\n",
       "      <td>data/Train_3500/Other/12967.jpg</td>\n",
       "      <td>12967.jpg</td>\n",
       "      <td>Other</td>\n",
       "      <td></td>\n",
       "    </tr>\n",
       "    <tr>\n",
       "      <th>46</th>\n",
       "      <td>data/Train_3500/Tiger/002_581.jpg</td>\n",
       "      <td>002_581.jpg</td>\n",
       "      <td>Tiger</td>\n",
       "      <td>0 0.5421 0.5014 0.4488 0.5535</td>\n",
       "    </tr>\n",
       "    <tr>\n",
       "      <th>2091</th>\n",
       "      <td>data/Train_3500/Tiger/001_2170.jpg</td>\n",
       "      <td>001_2170.jpg</td>\n",
       "      <td>Tiger</td>\n",
       "      <td>0 0.5876 0.4668 0.1937 0.7269</td>\n",
       "    </tr>\n",
       "    <tr>\n",
       "      <th>656</th>\n",
       "      <td>data/Train_3500/Tiger/002_1478.jpg</td>\n",
       "      <td>002_1478.jpg</td>\n",
       "      <td>Tiger</td>\n",
       "      <td>0 0.47 0.4352 0.9334 0.8704</td>\n",
       "    </tr>\n",
       "    <tr>\n",
       "      <th>7933</th>\n",
       "      <td>data/Train_3500/Other/210_IMG_0086_S08.jpg</td>\n",
       "      <td>210_IMG_0086_S08.jpg</td>\n",
       "      <td>Other</td>\n",
       "      <td></td>\n",
       "    </tr>\n",
       "  </tbody>\n",
       "</table>\n",
       "<p>8970 rows × 4 columns</p>\n",
       "</div>"
      ],
      "text/plain": [
       "                                              path                    id  \\\n",
       "5813      data/Train_3500/Leopard/02270351_S02.jpg      02270351_S02.jpg   \n",
       "3090              data/Train_3500/Tiger/001_51.jpg            001_51.jpg   \n",
       "1773            data/Train_3500/Tiger/001_1813.jpg          001_1813.jpg   \n",
       "8714    data/Train_3500/Other/258_PICT1244_S17.jpg  258_PICT1244_S17.jpg   \n",
       "5448  data/Train_3500/Leopard/109_IMAG0095_S02.jpg  109_IMAG0095_S02.jpg   \n",
       "...                                            ...                   ...   \n",
       "8163               data/Train_3500/Other/12967.jpg             12967.jpg   \n",
       "46               data/Train_3500/Tiger/002_581.jpg           002_581.jpg   \n",
       "2091            data/Train_3500/Tiger/001_2170.jpg          001_2170.jpg   \n",
       "656             data/Train_3500/Tiger/002_1478.jpg          002_1478.jpg   \n",
       "7933    data/Train_3500/Other/210_IMG_0086_S08.jpg  210_IMG_0086_S08.jpg   \n",
       "\n",
       "        class                           yolo  \n",
       "5813  Leopard  1 0.6624 0.6697 0.4062 0.3002  \n",
       "3090    Tiger  0 0.3481 0.5742 0.6963 0.5052  \n",
       "1773    Tiger  0 0.7029 0.8441 0.5415 0.2676  \n",
       "8714    Other                                 \n",
       "5448  Leopard  1 0.5949 0.5849 0.2758 0.1802  \n",
       "...       ...                            ...  \n",
       "8163    Other                                 \n",
       "46      Tiger  0 0.5421 0.5014 0.4488 0.5535  \n",
       "2091    Tiger  0 0.5876 0.4668 0.1937 0.7269  \n",
       "656     Tiger    0 0.47 0.4352 0.9334 0.8704  \n",
       "7933    Other                                 \n",
       "\n",
       "[8970 rows x 4 columns]"
      ]
     },
     "execution_count": 165,
     "metadata": {},
     "output_type": "execute_result"
    }
   ],
   "source": [
    "train_ann"
   ]
  },
  {
   "cell_type": "markdown",
   "id": "0f5b68dc-7607-4c39-a3c3-95db79081cae",
   "metadata": {
    "tags": []
   },
   "source": [
    "# fit yolo"
   ]
  },
  {
   "cell_type": "code",
   "execution_count": 129,
   "id": "a1b02f5a-5f2e-4062-8cb2-2061ae1731f2",
   "metadata": {},
   "outputs": [],
   "source": [
    "# !git clone https://github.com/ultralytics/yolov5\n",
    "# %cd yolov5\n",
    "# !pip install -r requirements.txt"
   ]
  },
  {
   "cell_type": "code",
   "execution_count": 166,
   "id": "758d4860-220a-4894-9c11-a9c1685f0efe",
   "metadata": {},
   "outputs": [],
   "source": [
    "yaml_file = \"yolov5/data/animal.yaml\"\n",
    "train_images_dir = os.path.join('..', 'data_yolo/train', 'images')\n",
    "val_images_dir = os.path.join('..', 'data_yolo/val', 'images')\n",
    "\n",
    "names_str = ''\n",
    "for item in ['Tiger', 'Leopard']:\n",
    "    names_str = names_str + \", \\'%s\\'\"%item\n",
    "names_str = \"names: [\"+names_str[1:]+\"]\"\n",
    "\n",
    "with open(yaml_file, \"w\") as wobj:\n",
    "    wobj.write(\"train: %s\\n\"%train_images_dir)\n",
    "    wobj.write(\"val: %s\\n\"%val_images_dir)\n",
    "    wobj.write(\"nc: %d\\n\"%2)\n",
    "    wobj.write(names_str+\"\\n\")\n",
    "    "
   ]
  },
  {
   "cell_type": "code",
   "execution_count": 171,
   "id": "5e35a66f-c0cf-406d-a273-f6cffed8819b",
   "metadata": {
    "tags": []
   },
   "outputs": [
    {
     "name": "stdout",
     "output_type": "stream",
     "text": [
      "\u001b[34m\u001b[1mtrain: \u001b[0mweights=../yolov5/runs/train/exp3/weights/last.pt, cfg=, data=../yolov5/data/animal.yaml, hyp=data/hyps/hyp.scratch.yaml, epochs=20, batch_size=8, imgsz=512, rect=False, resume=False, nosave=False, noval=False, noautoanchor=False, evolve=None, bucket=, cache=None, image_weights=False, device=, multi_scale=False, single_cls=False, adam=False, sync_bn=False, workers=8, project=runs/train, name=exp, exist_ok=False, quad=False, linear_lr=False, label_smoothing=0.0, patience=100, freeze=0, save_period=-1, local_rank=-1, entity=None, upload_dataset=False, bbox_interval=-1, artifact_alias=latest\n",
      "\u001b[34m\u001b[1mgithub: \u001b[0mup to date with https://github.com/ultralytics/yolov5 ✅\n",
      "YOLOv5 🚀 v6.0-109-g7c6bae0 torch 1.9.0 CPU\n",
      "\n",
      "\u001b[34m\u001b[1mhyperparameters: \u001b[0mlr0=0.01, lrf=0.1, momentum=0.937, weight_decay=0.0005, warmup_epochs=3.0, warmup_momentum=0.8, warmup_bias_lr=0.1, box=0.05, cls=0.5, cls_pw=1.0, obj=1.0, obj_pw=1.0, iou_t=0.2, anchor_t=4.0, fl_gamma=0.0, hsv_h=0.015, hsv_s=0.7, hsv_v=0.4, degrees=0.0, translate=0.1, scale=0.5, shear=0.0, perspective=0.0, flipud=0.0, fliplr=0.5, mosaic=1.0, mixup=0.0, copy_paste=0.0\n",
      "\u001b[34m\u001b[1mWeights & Biases: \u001b[0mrun 'pip install wandb' to automatically track and visualize YOLOv5 🚀 runs (RECOMMENDED)\n",
      "\u001b[34m\u001b[1mTensorBoard: \u001b[0mStart with 'tensorboard --logdir runs/train', view at http://localhost:6006/\n",
      "Init Plugin\n",
      "Init Graph Optimizer\n",
      "Init Kernel\n",
      "\n",
      "                 from  n    params  module                                  arguments                     \n",
      "  0                -1  1      3520  models.common.Conv                      [3, 32, 6, 2, 2]              \n",
      "  1                -1  1     18560  models.common.Conv                      [32, 64, 3, 2]                \n",
      "  2                -1  1     18816  models.common.C3                        [64, 64, 1]                   \n",
      "  3                -1  1     73984  models.common.Conv                      [64, 128, 3, 2]               \n",
      "  4                -1  2    115712  models.common.C3                        [128, 128, 2]                 \n",
      "  5                -1  1    295424  models.common.Conv                      [128, 256, 3, 2]              \n",
      "  6                -1  3    625152  models.common.C3                        [256, 256, 3]                 \n",
      "  7                -1  1   1180672  models.common.Conv                      [256, 512, 3, 2]              \n",
      "  8                -1  1   1182720  models.common.C3                        [512, 512, 1]                 \n",
      "  9                -1  1    656896  models.common.SPPF                      [512, 512, 5]                 \n",
      " 10                -1  1    131584  models.common.Conv                      [512, 256, 1, 1]              \n",
      " 11                -1  1         0  torch.nn.modules.upsampling.Upsample    [None, 2, 'nearest']          \n",
      " 12           [-1, 6]  1         0  models.common.Concat                    [1]                           \n",
      " 13                -1  1    361984  models.common.C3                        [512, 256, 1, False]          \n",
      " 14                -1  1     33024  models.common.Conv                      [256, 128, 1, 1]              \n",
      " 15                -1  1         0  torch.nn.modules.upsampling.Upsample    [None, 2, 'nearest']          \n",
      " 16           [-1, 4]  1         0  models.common.Concat                    [1]                           \n",
      " 17                -1  1     90880  models.common.C3                        [256, 128, 1, False]          \n",
      " 18                -1  1    147712  models.common.Conv                      [128, 128, 3, 2]              \n",
      " 19          [-1, 14]  1         0  models.common.Concat                    [1]                           \n",
      " 20                -1  1    296448  models.common.C3                        [256, 256, 1, False]          \n",
      " 21                -1  1    590336  models.common.Conv                      [256, 256, 3, 2]              \n",
      " 22          [-1, 10]  1         0  models.common.Concat                    [1]                           \n",
      " 23                -1  1   1182720  models.common.C3                        [512, 512, 1, False]          \n",
      " 24      [17, 20, 23]  1     18879  models.yolo.Detect                      [2, [[10, 13, 16, 30, 33, 23], [30, 61, 62, 45, 59, 119], [116, 90, 156, 198, 373, 326]], [128, 256, 512]]\n",
      "Model Summary: 270 layers, 7025023 parameters, 7025023 gradients, 15.9 GFLOPs\n",
      "\n",
      "Transferred 349/349 items from ../yolov5/runs/train/exp3/weights/last.pt\n",
      "Scaled weight_decay = 0.0005\n",
      "\u001b[34m\u001b[1moptimizer:\u001b[0m SGD with parameter groups 57 weight, 60 weight (no decay), 60 bias\n",
      "\u001b[34m\u001b[1malbumentations: \u001b[0mBlur(always_apply=False, p=0.01, blur_limit=(3, 7)), MedianBlur(always_apply=False, p=0.01, blur_limit=(3, 7)), ToGray(always_apply=False, p=0.01), CLAHE(always_apply=False, p=0.01, clip_limit=(1, 4.0), tile_grid_size=(8, 8))\n",
      "\u001b[34m\u001b[1mtrain: \u001b[0mScanning '../data_yolo/train/labels.cache' images and labels... 11429 fou\u001b[0m\n",
      "\u001b[34m\u001b[1mval: \u001b[0mScanning '../data_yolo/val/labels.cache' images and labels... 2306 found, 0\u001b[0m\n",
      "Plotting labels to runs/train/exp5/labels.jpg... \n",
      "\n",
      "\u001b[34m\u001b[1mAutoAnchor: \u001b[0m4.64 anchors/target, 1.000 Best Possible Recall (BPR). Current anchors are a good fit to dataset ✅\n",
      "Image sizes 512 train, 512 val\n",
      "Using 8 dataloader workers\n",
      "Logging results to \u001b[1mruns/train/exp5\u001b[0m\n",
      "Starting training for 20 epochs...\n",
      "\n",
      "     Epoch   gpu_mem       box       obj       cls    labels  img_size\n",
      "      0/19        0G   0.02922   0.01099 0.0007457        13       512: 100%|███\n",
      "               Class     Images     Labels          P          R     mAP@.5 mAP@\n",
      "                 all       2306       3309      0.943      0.903      0.943      0.696\n",
      "\n",
      "     Epoch   gpu_mem       box       obj       cls    labels  img_size\n",
      "      1/19        0G   0.03126   0.01177  0.001146        10       512: 100%|███\n",
      "               Class     Images     Labels          P          R     mAP@.5 mAP@\n",
      "                 all       2306       3309       0.94      0.905      0.949      0.699\n",
      "\n",
      "     Epoch   gpu_mem       box       obj       cls    labels  img_size\n",
      "      2/19        0G    0.0321   0.01163  0.001488         9       512: 100%|███\n",
      "               Class     Images     Labels          P          R     mAP@.5 mAP@\n",
      "                 all       2306       3309      0.948      0.893      0.942      0.681\n",
      "\n",
      "     Epoch   gpu_mem       box       obj       cls    labels  img_size\n",
      "      3/19        0G   0.03303   0.01214  0.001894         8       512: 100%|███\n",
      "               Class     Images     Labels          P          R     mAP@.5 mAP@\n",
      "                 all       2306       3309      0.932      0.913      0.945      0.677\n",
      "\n",
      "     Epoch   gpu_mem       box       obj       cls    labels  img_size\n",
      "      4/19        0G   0.03206   0.01201  0.001806        10       512: 100%|███\n",
      "               Class     Images     Labels          P          R     mAP@.5 mAP@\n",
      "                 all       2306       3309       0.95      0.919      0.954        0.7\n",
      "\n",
      "     Epoch   gpu_mem       box       obj       cls    labels  img_size\n",
      "      5/19        0G   0.03089   0.01155   0.00149        14       512: 100%|███\n",
      "               Class     Images     Labels          P          R     mAP@.5 mAP@\n",
      "                 all       2306       3309       0.95      0.931      0.957      0.716\n",
      "\n",
      "     Epoch   gpu_mem       box       obj       cls    labels  img_size\n",
      "      6/19        0G   0.03061   0.01137  0.001551        10       512: 100%|███\n",
      "               Class     Images     Labels          P          R     mAP@.5 mAP@\n",
      "                 all       2306       3309      0.942      0.943      0.959      0.712\n",
      "\n",
      "     Epoch   gpu_mem       box       obj       cls    labels  img_size\n",
      "      7/19        0G   0.02977   0.01119  0.001332         9       512: 100%|███\n",
      "               Class     Images     Labels          P          R     mAP@.5 mAP@\n",
      "                 all       2306       3309      0.955      0.938      0.966      0.728\n",
      "\n",
      "     Epoch   gpu_mem       box       obj       cls    labels  img_size\n",
      "      8/19        0G   0.02879   0.01075  0.001246        11       512: 100%|███\n",
      "               Class     Images     Labels          P          R     mAP@.5 mAP@\n",
      "                 all       2306       3309      0.947       0.94      0.967      0.745\n",
      "\n",
      "     Epoch   gpu_mem       box       obj       cls    labels  img_size\n",
      "      9/19        0G   0.02803   0.01052  0.001112        12       512: 100%|███\n",
      "               Class     Images     Labels          P          R     mAP@.5 mAP@\n",
      "                 all       2306       3309      0.954      0.953       0.97      0.744\n",
      "\n",
      "     Epoch   gpu_mem       box       obj       cls    labels  img_size\n",
      "     10/19        0G    0.0273   0.01027 0.0008965         8       512: 100%|███\n",
      "               Class     Images     Labels          P          R     mAP@.5 mAP@\n",
      "                 all       2306       3309      0.947      0.955      0.971      0.757\n",
      "\n",
      "     Epoch   gpu_mem       box       obj       cls    labels  img_size\n",
      "     11/19        0G   0.02689   0.01007  0.001016        11       512: 100%|███\n",
      "               Class     Images     Labels          P          R     mAP@.5 mAP@\n",
      "                 all       2306       3309      0.947      0.961       0.97      0.752\n",
      "\n",
      "     Epoch   gpu_mem       box       obj       cls    labels  img_size\n",
      "     12/19        0G   0.02717   0.01053  0.001358         8       512: 100%|███\n",
      "               Class     Images     Labels          P          R     mAP@.5 mAP@\n",
      "                 all       2306       3309      0.957      0.953      0.972      0.758\n",
      "\n",
      "     Epoch   gpu_mem       box       obj       cls    labels  img_size\n",
      "     13/19        0G   0.02599   0.01004  0.000857         5       512: 100%|███\n",
      "               Class     Images     Labels          P          R     mAP@.5 mAP@\n",
      "                 all       2306       3309      0.963      0.955      0.973       0.77\n",
      "\n",
      "     Epoch   gpu_mem       box       obj       cls    labels  img_size\n",
      "     14/19        0G   0.02736  0.008263  0.000212         9       512:   0%|   ^C\n"
     ]
    }
   ],
   "source": [
    "!cd yolov5 && python train.py --img 512 --batch 8 --epochs 20 --data ../yolov5/data/animal.yaml --weights ../yolov5/runs/train/exp3/weights/last.pt\n",
    "\n"
   ]
  },
  {
   "cell_type": "code",
   "execution_count": 175,
   "id": "a5850557-86e9-4b97-b701-10a62faeb7b2",
   "metadata": {},
   "outputs": [
    {
     "name": "stdout",
     "output_type": "stream",
     "text": [
      "\u001b[34m\u001b[1mval: \u001b[0mdata=../yolov5/data/animal.yaml, weights=['../yolov5/runs/train/exp5/weights/best.pt'], batch_size=32, imgsz=512, conf_thres=0.5, iou_thres=0.6, task=val, device=, single_cls=False, augment=False, verbose=False, save_txt=False, save_hybrid=False, save_conf=False, save_json=False, project=runs/val, name=exp, exist_ok=False, half=False, dnn=False\n",
      "WARNING: confidence threshold 0.5 >> 0.001 will produce invalid mAP values.\n",
      "YOLOv5 🚀 v6.0-109-g7c6bae0 torch 1.9.0 CPU\n",
      "\n",
      "Fusing layers... \n",
      "Model Summary: 213 layers, 7015519 parameters, 0 gradients, 15.8 GFLOPs\n",
      "\u001b[34m\u001b[1mval: \u001b[0mScanning '../data_yolo/val/labels.cache' images and labels... 2306 found, 0\u001b[0m\n",
      "               Class     Images     Labels          P          R     mAP@.5 mAP@\n",
      "                 all       2306       3309      0.963      0.955      0.966      0.806\n",
      "               Tiger       2306       2781      0.964      0.923      0.949      0.709\n",
      "             Leopard       2306        528      0.963      0.987      0.983      0.904\n",
      "Speed: 0.3ms pre-process, 47.7ms inference, 0.1ms NMS per image at shape (32, 3, 512, 512)\n",
      "Results saved to \u001b[1mruns/val/exp2\u001b[0m\n"
     ]
    }
   ],
   "source": [
    "!cd yolov5 && python val.py --weights ../yolov5/runs/train/exp5/weights/best.pt --data ../yolov5/data/animal.yaml --img 512 --conf-thres 0.5\n",
    "\n"
   ]
  },
  {
   "cell_type": "code",
   "execution_count": null,
   "id": "d7a03f1d-7c44-4397-9eed-537fa0023561",
   "metadata": {},
   "outputs": [],
   "source": []
  }
 ],
 "metadata": {
  "kernelspec": {
   "display_name": "Python 3",
   "language": "python",
   "name": "python3"
  },
  "language_info": {
   "codemirror_mode": {
    "name": "ipython",
    "version": 3
   },
   "file_extension": ".py",
   "mimetype": "text/x-python",
   "name": "python",
   "nbconvert_exporter": "python",
   "pygments_lexer": "ipython3",
   "version": "3.9.5"
  }
 },
 "nbformat": 4,
 "nbformat_minor": 5
}
